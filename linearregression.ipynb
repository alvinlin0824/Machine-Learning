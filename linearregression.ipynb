{
 "cells": [
  {
   "cell_type": "raw",
   "metadata": {},
   "source": [
    "---\n",
    "title: \"Linear Regression\"\n",
    "author: \"Alvin Lin\"\n",
    "date: now\n",
    "format: \n",
    "  html\n",
    "echo: false\n",
    "jupyter: python3\n",
    "---"
   ]
  },
  {
   "cell_type": "code",
   "execution_count": null,
   "metadata": {},
   "outputs": [],
   "source": [
    "#| label: Import-Modules\n",
    "import numpy as np\n",
    "import pandas as pd\n",
    "import matplotlib.pyplot as plt "
   ]
  },
  {
   "cell_type": "code",
   "execution_count": null,
   "metadata": {},
   "outputs": [],
   "source": [
    "#| label: Scatter-Plot\n",
    "np.random.seed(123)\n",
    "x = 2*np.random.rand(100,1)\n",
    "y = 4 + 3 * x + np.random.rand(100,1)\n",
    "plt.scatter(x,y)\n",
    "plt.show()"
   ]
  },
  {
   "cell_type": "code",
   "execution_count": null,
   "metadata": {},
   "outputs": [],
   "source": [
    "#| label: Linear-Algebra\n",
    "# Create Intercept\n",
    "X = np.hstack([np.ones((100,1)),x])\n",
    "beta_hat = np.linalg.inv(X.T.dot(X)).dot(X.T).dot(y)"
   ]
  },
  {
   "cell_type": "code",
   "execution_count": null,
   "metadata": {},
   "outputs": [],
   "source": [
    "#| label: Scikit-Learn-Linear-Regression\n",
    "#| include: false\n",
    "from sklearn.linear_model import LinearRegression\n",
    "lin_reg = LinearRegression()\n",
    "lin_reg.fit(x,y)\n",
    "# Time complexity is O(n^2), which is very slow "
   ]
  },
  {
   "cell_type": "code",
   "execution_count": null,
   "metadata": {},
   "outputs": [],
   "source": [
    "#| label: Gradient-Descent\n",
    "#| include: false\n",
    "# minimize the cost function(Loss function)\n",
    "# Learning rate is small, it might take a longer time to converge, vice versa.\n",
    "# When using Gradient Descent, you should ensure that all features have a similar scale\n",
    "# Batch Gradient Descent: whole data set to update the step, fixed learning rate\n",
    "# Stochastic Gradient Descent: random and single data to update the step Shuffile is very important\n",
    "# Gradually reduce the learning rate. The steps start out large then get smaller and smaller\n",
    "# Mini-Batch Gradient Descent: small random sets of instances \n",
    "from sklearn.linear_model import SGDRegressor\n",
    "sgd_reg = SGDRegressor(max_iter = 1000, tol = 1e-3, penalty = None, eta0 = 0.1)\n",
    "sgd_reg.fit(x,y.reshape(-1))"
   ]
  },
  {
   "cell_type": "code",
   "execution_count": null,
   "metadata": {},
   "outputs": [],
   "source": [
    "from IPython.display import Markdown\n",
    "from tabulate import tabulate\n",
    "table = [[\"Normal Equation\", beta_hat[0][0], beta_hat[1][0]],\n",
    "         [\"SVD\", lin_reg.intercept_[0], lin_reg.coef_[0][0]],\n",
    "         [\"SGD\", sgd_reg.intercept_[0], sgd_reg.coef_[0]]\n",
    "         ]\n",
    "Markdown(tabulate(\n",
    "  table, \n",
    "  headers=[\"Algorithm\",\"Intercept\", \"Slope\"]\n",
    "))"
   ]
  },
  {
   "cell_type": "code",
   "execution_count": null,
   "metadata": {},
   "outputs": [],
   "source": [
    "#| label: Predicted-Rgression\n",
    "def abline(slope, intercept, color, label):\n",
    "    axes = plt.gca()\n",
    "    x_vals = np.array(axes.get_xlim())\n",
    "    y_vals = intercept + slope * x_vals\n",
    "    plt.plot(x_vals, y_vals, color)\n",
    "plt.scatter(x,y)\n",
    "abline(beta_hat[1][0], beta_hat[0][0], color = \"r-\", label = \"Normal Equaation\")\n",
    "abline(lin_reg.coef_[0][0], lin_reg.intercept_[0], color = \"y-\", label = \"SVD\")\n",
    "abline(sgd_reg.coef_[0], sgd_reg.intercept_[0], color = \"g-\", label = \"SGD\")\n",
    "plt.show()"
   ]
  },
  {
   "cell_type": "code",
   "execution_count": null,
   "metadata": {},
   "outputs": [],
   "source": [
    "#| label: Polynomial-Regression\n",
    "# (100,1)\n",
    "np.random.seed(123)\n",
    "x = 6 * np.random.rand(100,1) - 3\n",
    "y = 0.5 * x**2 + x + 2 + np.random.rand(100,1)"
   ]
  },
  {
   "cell_type": "code",
   "execution_count": null,
   "metadata": {},
   "outputs": [],
   "source": [
    "#| label: Train-Polynomial\n",
    "from sklearn.preprocessing import PolynomialFeatures\n",
    "from sklearn.linear_model import LinearRegression\n",
    "poly_features = PolynomialFeatures(degree = 2, include_bias = False)\n",
    "x_square = poly_features.fit_transform(x)\n",
    "lin_reg = LinearRegression()\n",
    "lin_reg.fit(x_square, y)"
   ]
  },
  {
   "cell_type": "code",
   "execution_count": null,
   "metadata": {},
   "outputs": [],
   "source": [
    "#| label: Prediction-Plot\n",
    "plt.scatter(x,y)\n",
    "plt.plot(np.sort(x, axis = 0), lin_reg.coef_[0][1]* np.sort(x, axis = 0)**2 + lin_reg.coef_[0][0]*np.sort(x, axis = 0) + lin_reg.intercept_[0], \n",
    "         color = 'red',label = \"Predictions\")\n",
    "plt.legend()\n",
    "plt.show()"
   ]
  },
  {
   "cell_type": "code",
   "execution_count": null,
   "metadata": {},
   "outputs": [],
   "source": [
    "# Using learning curves can tell if the model is overfitting or underfitting\n",
    "# Train the model several times on different sized subsets of the training set.\n",
    "# Bias/Variance Tradeoff"
   ]
  },
  {
   "cell_type": "code",
   "execution_count": null,
   "metadata": {},
   "outputs": [],
   "source": [
    "# Regularization\n",
    "# Ridge Regression\n",
    "# Lasso Regression\n",
    "# Elastic Net\n",
    "# Early Stopping: validation error has reached a minimum"
   ]
  },
  {
   "cell_type": "code",
   "execution_count": null,
   "metadata": {},
   "outputs": [],
   "source": [
    "#| label: Logistic-Regression\n",
    "from sklearn import datasets\n",
    "iris = datasets.load_iris()\n",
    "x = iris[\"data\"][:,3:]\n",
    "y = (iris[\"target\"] == 2).astype(int)\n",
    "from sklearn.linear_model import LogisticRegression\n",
    "log_reg = LogisticRegression()\n",
    "log_reg.fit(x,y)"
   ]
  },
  {
   "cell_type": "code",
   "execution_count": 76,
   "metadata": {},
   "outputs": [
    {
     "data": {
      "image/png": "[encoded data removed]",
      "text/plain": [
       "<Figure size 640x480 with 1 Axes>"
      ]
     },
     "metadata": {},
     "output_type": "display_data"
    }
   ],
   "source": [
    "#| label: Logistic-Regression-Plot\n",
    "# 2-D array\n",
    "x_new = np.linspace(0,3,1000).reshape(-1,1)\n",
    "y_proba = log_reg.predict_proba(x_new)\n",
    "plt.plot(x_new, y_proba[:,1],\"g-\", label = \"Iris-Virginica\")\n",
    "plt.plot(x_new, y_proba[:,0],\"b--\", label = \"Not Iris-Virginica\")\n",
    "plt.legend()\n",
    "plt.show()"
   ]
  },
  {
   "cell_type": "code",
   "execution_count": 79,
   "metadata": {},
   "outputs": [
    {
     "data": {
      "text/plain": [
       "(1000, 1)"
      ]
     },
     "execution_count": 79,
     "metadata": {},
     "output_type": "execute_result"
    }
   ],
   "source": []
  }
 ],
 "metadata": {
  "kernelspec": {
   "display_name": "Python 3",
   "language": "python",
   "name": "python3"
  },
  "language_info": {
   "codemirror_mode": {
    "name": "ipython",
    "version": 3
   },
   "file_extension": ".py",
   "mimetype": "text/x-python",
   "name": "python",
   "nbconvert_exporter": "python",
   "pygments_lexer": "ipython3",
   "version": "3.12.1"
  }
 },
 "nbformat": 4,
 "nbformat_minor": 2
}
